{
 "cells": [
  {
   "cell_type": "markdown",
   "metadata": {},
   "source": [
    "## Jupyter Snippets\n",
    "\n",
    "* scientific number formatting in dataframes\n",
    "* print all variables in kernals\n",
    "* column print settings\n",
    "* timing functions"
   ]
  },
  {
   "cell_type": "code",
   "execution_count": 15,
   "metadata": {},
   "outputs": [],
   "source": [
    "import jupyterlab\n",
    "import os\n",
    "import pandas as pd\n",
    "import platform\n",
    "import random\n",
    "import seaborn as sns\n",
    "import time\n",
    "\n",
    "from platform import python_version"
   ]
  },
  {
   "cell_type": "code",
   "execution_count": 14,
   "metadata": {},
   "outputs": [],
   "source": [
    "# %env"
   ]
  },
  {
   "cell_type": "code",
   "execution_count": 2,
   "metadata": {},
   "outputs": [
    {
     "name": "stdout",
     "output_type": "stream",
     "text": [
      "System\n",
      "os name: nt\n",
      "system: Windows\n",
      "release: 10\n",
      "\n",
      "Python\n",
      "version: 3.6.5\n",
      "\n",
      "Python Packages\n",
      "jupterlab==0.32.1\n",
      "pandas==0.23.0\n"
     ]
    }
   ],
   "source": [
    "\n",
    "print(\"System\")\n",
    "print(\"os name: %s\" % os.name)\n",
    "print(\"system: %s\" % platform.system())\n",
    "print(\"release: %s\" % platform.release())\n",
    "print()\n",
    "print(\"Python\")\n",
    "print(\"version: %s\" % python_version())\n",
    "print()\n",
    "print(\"Python Packages\")\n",
    "print(\"jupterlab==%s\" % jupyterlab.__version__)\n",
    "print(\"pandas==%s\" % pd.__version__)\n",
    "seed = 42\n",
    "random.seed(seed)\n",
    "pd.np.random.seed(seed)"
   ]
  },
  {
   "cell_type": "markdown",
   "metadata": {},
   "source": [
    "## All functions in Doc"
   ]
  },
  {
   "cell_type": "code",
   "execution_count": null,
   "metadata": {},
   "outputs": [],
   "source": [
    "#print every value\n",
    "from IPython.core.interactiveshell import InteractiveShell\n",
    "InteractiveShell.ast_node_interactivity = \"all\" # default 'last_expr'\n",
    "\n",
    "# supress scientific notation\n",
    "pd.options.display.float_format = '{:.4f}'.format # fourth decimal place\n",
    "\n",
    "# Columns and row display\n",
    "pd.set_option('display.max_rows', 1000)\n",
    "pd.set_option('display.max_columns', 100)\n",
    "pd.set_option('display.width',1000)\n",
    "pd.set_option('max_colwidth', 500)\n",
    "\n",
    "# Seaborn Formatting\n",
    "sns.set(style=\"darkgrid\")"
   ]
  },
  {
   "cell_type": "markdown",
   "metadata": {},
   "source": [
    "# Detailed descriptions if needed"
   ]
  },
  {
   "cell_type": "markdown",
   "metadata": {},
   "source": [
    "## Print every output from a cell\n",
    "\n",
    "* One of many of the \"interactive\" functions available for IPython\n",
    "* https://ipython.readthedocs.io/en/stable/config/options/terminal.html\n"
   ]
  },
  {
   "cell_type": "code",
   "execution_count": 4,
   "metadata": {},
   "outputs": [
    {
     "data": {
      "text/plain": [
       "3"
      ]
     },
     "execution_count": 4,
     "metadata": {},
     "output_type": "execute_result"
    },
    {
     "data": {
      "text/plain": [
       "4"
      ]
     },
     "execution_count": 4,
     "metadata": {},
     "output_type": "execute_result"
    }
   ],
   "source": [
    "from IPython.core.interactiveshell import InteractiveShell\n",
    "InteractiveShell.ast_node_interactivity = \"all\" # default 'last_expr'\n",
    "\n",
    "a=3\n",
    "a\n",
    "a+1"
   ]
  },
  {
   "cell_type": "markdown",
   "metadata": {},
   "source": [
    "## Suppress scientific notation in dataframe"
   ]
  },
  {
   "cell_type": "code",
   "execution_count": 5,
   "metadata": {},
   "outputs": [
    {
     "data": {
      "text/plain": [
       "(100, 2)"
      ]
     },
     "execution_count": 5,
     "metadata": {},
     "output_type": "execute_result"
    }
   ],
   "source": [
    "def generate_sentence(n_chars=200):\n",
    "    return ''.join(random.choice('abcdefg ') for _ in range(n_chars))\n",
    "n = 100\n",
    "df = pd.DataFrame(\n",
    "    {\n",
    "        \"col1\": pd.np.random.random_sample(n),\n",
    "        \"text\": [generate_sentence() for _ in range(n)]\n",
    "    }\n",
    ")\n",
    "df.shape\n"
   ]
  },
  {
   "cell_type": "code",
   "execution_count": 7,
   "metadata": {},
   "outputs": [
    {
     "data": {
      "text/html": [
       "<div>\n",
       "<style scoped>\n",
       "    .dataframe tbody tr th:only-of-type {\n",
       "        vertical-align: middle;\n",
       "    }\n",
       "\n",
       "    .dataframe tbody tr th {\n",
       "        vertical-align: top;\n",
       "    }\n",
       "\n",
       "    .dataframe thead th {\n",
       "        text-align: right;\n",
       "    }\n",
       "</style>\n",
       "<table border=\"1\" class=\"dataframe\">\n",
       "  <thead>\n",
       "    <tr style=\"text-align: right;\">\n",
       "      <th></th>\n",
       "      <th>col1</th>\n",
       "      <th>text</th>\n",
       "    </tr>\n",
       "  </thead>\n",
       "  <tbody>\n",
       "    <tr>\n",
       "      <th>0</th>\n",
       "      <td>1.000000e-10</td>\n",
       "      <td>baeddcbbgaabddadgd eacgfecdfbbgbffea bgbefdbad...</td>\n",
       "    </tr>\n",
       "    <tr>\n",
       "      <th>1</th>\n",
       "      <td>9.507143e-01</td>\n",
       "      <td>aabdcg  dgacgage eg cdedaafaa cabcbbdgbdabgfed...</td>\n",
       "    </tr>\n",
       "    <tr>\n",
       "      <th>2</th>\n",
       "      <td>7.319939e-01</td>\n",
       "      <td>befbdeddcaad b gdg gdcabgdc adb c f g c  ede d...</td>\n",
       "    </tr>\n",
       "    <tr>\n",
       "      <th>3</th>\n",
       "      <td>5.986585e-01</td>\n",
       "      <td>bedgdef fgff eeedbdfbcdd eebdedfceaceaaec bae ...</td>\n",
       "    </tr>\n",
       "    <tr>\n",
       "      <th>4</th>\n",
       "      <td>1.560186e-01</td>\n",
       "      <td>eaee c  ffg fddgdgaf ggc acfb b acgcb efgbfgf ...</td>\n",
       "    </tr>\n",
       "  </tbody>\n",
       "</table>\n",
       "</div>"
      ],
      "text/plain": [
       "           col1                                               text\n",
       "0  1.000000e-10  baeddcbbgaabddadgd eacgfecdfbbgbffea bgbefdbad...\n",
       "1  9.507143e-01  aabdcg  dgacgage eg cdedaafaa cabcbbdgbdabgfed...\n",
       "2  7.319939e-01  befbdeddcaad b gdg gdcabgdc adb c f g c  ede d...\n",
       "3  5.986585e-01  bedgdef fgff eeedbdfbcdd eebdedfceaceaaec bae ...\n",
       "4  1.560186e-01  eaee c  ffg fddgdgaf ggc acfb b acgcb efgbfgf ..."
      ]
     },
     "execution_count": 7,
     "metadata": {},
     "output_type": "execute_result"
    }
   ],
   "source": [
    "df.iloc[0, 0] = 1e-10\n",
    "df.head()"
   ]
  },
  {
   "cell_type": "code",
   "execution_count": 8,
   "metadata": {},
   "outputs": [],
   "source": [
    "pd.options.display.float_format = '{:.4f}'.format # fourth decimal place\n"
   ]
  },
  {
   "cell_type": "code",
   "execution_count": 9,
   "metadata": {},
   "outputs": [
    {
     "data": {
      "text/html": [
       "<div>\n",
       "<style scoped>\n",
       "    .dataframe tbody tr th:only-of-type {\n",
       "        vertical-align: middle;\n",
       "    }\n",
       "\n",
       "    .dataframe tbody tr th {\n",
       "        vertical-align: top;\n",
       "    }\n",
       "\n",
       "    .dataframe thead th {\n",
       "        text-align: right;\n",
       "    }\n",
       "</style>\n",
       "<table border=\"1\" class=\"dataframe\">\n",
       "  <thead>\n",
       "    <tr style=\"text-align: right;\">\n",
       "      <th></th>\n",
       "      <th>col1</th>\n",
       "      <th>text</th>\n",
       "    </tr>\n",
       "  </thead>\n",
       "  <tbody>\n",
       "    <tr>\n",
       "      <th>0</th>\n",
       "      <td>0.0000</td>\n",
       "      <td>baeddcbbgaabddadgd eacgfecdfbbgbffea bgbefdbad...</td>\n",
       "    </tr>\n",
       "    <tr>\n",
       "      <th>1</th>\n",
       "      <td>0.9507</td>\n",
       "      <td>aabdcg  dgacgage eg cdedaafaa cabcbbdgbdabgfed...</td>\n",
       "    </tr>\n",
       "    <tr>\n",
       "      <th>2</th>\n",
       "      <td>0.7320</td>\n",
       "      <td>befbdeddcaad b gdg gdcabgdc adb c f g c  ede d...</td>\n",
       "    </tr>\n",
       "    <tr>\n",
       "      <th>3</th>\n",
       "      <td>0.5987</td>\n",
       "      <td>bedgdef fgff eeedbdfbcdd eebdedfceaceaaec bae ...</td>\n",
       "    </tr>\n",
       "    <tr>\n",
       "      <th>4</th>\n",
       "      <td>0.1560</td>\n",
       "      <td>eaee c  ffg fddgdgaf ggc acfb b acgcb efgbfgf ...</td>\n",
       "    </tr>\n",
       "  </tbody>\n",
       "</table>\n",
       "</div>"
      ],
      "text/plain": [
       "    col1                                               text\n",
       "0 0.0000  baeddcbbgaabddadgd eacgfecdfbbgbffea bgbefdbad...\n",
       "1 0.9507  aabdcg  dgacgage eg cdedaafaa cabcbbdgbdabgfed...\n",
       "2 0.7320  befbdeddcaad b gdg gdcabgdc adb c f g c  ede d...\n",
       "3 0.5987  bedgdef fgff eeedbdfbcdd eebdedfceaceaaec bae ...\n",
       "4 0.1560  eaee c  ffg fddgdgaf ggc acfb b acgcb efgbfgf ..."
      ]
     },
     "execution_count": 9,
     "metadata": {},
     "output_type": "execute_result"
    }
   ],
   "source": [
    "df.head()"
   ]
  },
  {
   "cell_type": "code",
   "execution_count": 10,
   "metadata": {},
   "outputs": [],
   "source": [
    "pd.reset_option('display.float_format')"
   ]
  },
  {
   "cell_type": "markdown",
   "metadata": {},
   "source": [
    "### List variables\n",
    "* The %who command without any arguments will list all variables that existing in the global scope. Passing a parameter like str will list only variables of that type."
   ]
  },
  {
   "cell_type": "code",
   "execution_count": 16,
   "metadata": {},
   "outputs": [
    {
     "name": "stdout",
     "output_type": "stream",
     "text": [
      "one\t three\t two\t \n"
     ]
    }
   ],
   "source": [
    "one = \"for the money\"\n",
    "two = \"for the show\"\n",
    "three = \"to get ready now go cat go\"\n",
    "%who str"
   ]
  },
  {
   "cell_type": "markdown",
   "metadata": {},
   "source": [
    "### Time Function\n",
    "* %%time will give you information about a single run of the code in your cell."
   ]
  },
  {
   "cell_type": "code",
   "execution_count": 18,
   "metadata": {},
   "outputs": [
    {
     "name": "stdout",
     "output_type": "stream",
     "text": [
      "Wall time: 10.5 s\n"
     ]
    }
   ],
   "source": [
    "%%time\n",
    "for _ in range(1000):\n",
    "    time.sleep(0.01) # sleep for 0.01 seconds"
   ]
  },
  {
   "cell_type": "code",
   "execution_count": null,
   "metadata": {},
   "outputs": [],
   "source": []
  },
  {
   "cell_type": "code",
   "execution_count": null,
   "metadata": {},
   "outputs": [],
   "source": []
  }
 ],
 "metadata": {
  "kernelspec": {
   "display_name": "Python 3",
   "language": "python",
   "name": "python3"
  },
  "language_info": {
   "codemirror_mode": {
    "name": "ipython",
    "version": 3
   },
   "file_extension": ".py",
   "mimetype": "text/x-python",
   "name": "python",
   "nbconvert_exporter": "python",
   "pygments_lexer": "ipython3",
   "version": "3.6.5"
  }
 },
 "nbformat": 4,
 "nbformat_minor": 2
}
